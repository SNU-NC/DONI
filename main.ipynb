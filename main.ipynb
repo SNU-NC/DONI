{
 "cells": [
  {
   "cell_type": "code",
   "execution_count": 1,
   "metadata": {},
   "outputs": [
    {
     "name": "stdout",
     "output_type": "stream",
     "text": [
      "Tracing enabled: <langchain_core.tracers.langchain.LangChainTracer object at 0x11cb14ad0>\n"
     ]
    }
   ],
   "source": [
    "# 1. 랭스미스 초기화\n",
    "\n",
    "import os\n",
    "from dotenv import load_dotenv\n",
    "from langchain.callbacks.manager import tracing_v2_enabled\n",
    "\n",
    "load_dotenv()\n",
    "\n",
    "\n",
    "\n",
    "# 트레이싱 상태 확인\n",
    "with tracing_v2_enabled() as tracing:\n",
    "    print(f\"Tracing enabled: {tracing}\")\n"
   ]
  },
  {
   "cell_type": "code",
   "execution_count": 2,
   "metadata": {},
   "outputs": [
    {
     "name": "stdout",
     "output_type": "stream",
     "text": [
      "캐시된 순매수 가중치 사용\n",
      "기존 벡터스토어를 로드합니다...\n",
      "기존 기업 벡터스토어를 로드합니다...\n",
      "Plan*Scheduler 시작할 때의 replan Count를 체크하겠습니다.  404\n",
      "\n",
      "=== 기업명 추출 시작 ===\n",
      "입력 쿼리: GS리테일의 2023년 ROE((당기순이익 / 자기자본) × 100)는 얼마인가요?\n",
      "\n",
      "[Step 1: LLM으로 회사명 텍스트 추출 중...]\n",
      "LLM 응답: content='[\"GS리테일\"]' additional_kwargs={'refusal': None} response_metadata={'token_usage': {'completion_tokens': 8, 'prompt_tokens': 634, 'total_tokens': 642, 'completion_tokens_details': {'accepted_prediction_tokens': 0, 'audio_tokens': 0, 'reasoning_tokens': 0, 'rejected_prediction_tokens': 0}, 'prompt_tokens_details': {'audio_tokens': 0, 'cached_tokens': 0}}, 'model_name': 'gpt-4-0125-preview', 'system_fingerprint': None, 'finish_reason': 'stop', 'logprobs': None} id='run-5c9cae6e-0b6c-44f5-be28-a0c0b4dcf5ba-0' usage_metadata={'input_tokens': 634, 'output_tokens': 8, 'total_tokens': 642, 'input_token_details': {'audio': 0, 'cache_read': 0}, 'output_token_details': {'audio': 0, 'reasoning': 0}}\n",
      "- LLM이 예상한 회사명 목록: ['GS리테일']\n",
      "\n",
      "[Step 2: GS리테일에 대한 유사 기업명 후보 추출 중...]\n",
      "[('GS리테일', 1.0), ('엠에스리테일', 0.8333333333333334), ('BGF리테일', 0.7142857142857143), ('제이에스리테일', 0.7142857142857143), ('에스피리테일', 0.6666666666666667), ('지에스테크', 0.6666666666666667), ('찬스리테일', 0.6666666666666667), ('뉴에라리테일', 0.6666666666666667), ('더엠리테일', 0.6499999999999999), ('지에스인텍', 0.6499999999999999), ('지에스엔텍', 0.6499999999999999), ('엠큐리테일', 0.6499999999999999), ('지에스이', 0.6499999999999999), ('지에스엠텍', 0.6499999999999999), ('GS칼텍스', 0.6499999999999999), ('지에스아이', 0.6499999999999999), ('지에스엠이', 0.6499999999999999), ('에프엔에스리테일', 0.625), ('지에스엘리베이터', 0.6125), ('GS', 0.6)]\n",
      "- 추출된 후보 수: 1\n",
      "- 추출된 후보 목록: ['GS리테일']\n",
      "- 최종 선택된 회사명: ['GS리테일']\n",
      "\n",
      "[최종 결과]\n",
      "- 추출된 정보: {'companyNames': ['GS리테일']}\n",
      "- 태그된 쿼리: <companyName>GS리테일</companyName>의 2023년 ROE((당기순이익 / 자기자본) × 100)는 얼마인가요?\n",
      "=== 쿼리 처리 완료 ===\n",
      "\n",
      "metadata: {'companyName': 'GS리테일'}\n",
      "process_result: {'input_query': '<companyName>GS리테일</companyName>의 2023년 ROE((당기순이익 / 자기자본) × 100)는 얼마인가요?', 'metadata': {'companyName': 'GS리테일'}}\n"
     ]
    },
    {
     "name": "stderr",
     "output_type": "stream",
     "text": [
      "WARNING:langchain_community.utils.user_agent:USER_AGENT environment variable not set, consider setting it to identify your requests.\n"
     ]
    },
    {
     "name": "stdout",
     "output_type": "stream",
     "text": [
      "추출된 정보: company=GS리테일, year=2023, financial_term=ROE\n",
      "quick_retriever_result: {'output': 'GS리테일의 2023년 ROE은(는) 0.4입니다. 이 정보는 https://comp.fnguide.com/SVO2/ASP/SVD_FinanceRatio.asp?pGB=1&gicode=A007070&cID=&MenuYn=Y&ReportGB=&NewMenuID=104&stkGb=701에서 확인되었습니다.', 'key_information': [{'tool': '웹검색 재무제표 도구', 'company': 'GS리테일', 'financial_term': 'ROE', 'year': 2023, 'referenced_content': 'https://comp.fnguide.com/SVO2/ASP/SVD_FinanceRatio.asp?pGB=1&gicode=A007070&cID=&MenuYn=Y&ReportGB=&NewMenuID=104&stkGb=701'}]}\n",
      "quick_retriever_tool에서 유용한 정보를 찾았습니다.\n",
      "step 디버깅 :  {'plan_and_schedule': {'messages': [HumanMessage(content='GS리테일의 2023년 ROE는 얼마인가요?', additional_kwargs={}, response_metadata={}, id='87c345fd-4ee2-42ad-bb0d-94e5c20c8b76'), SystemMessage(content=\"{'output': 'GS리테일의 2023년 ROE은(는) 0.4입니다. 이 정보는 https://comp.fnguide.com/SVO2/ASP/SVD_FinanceRatio.asp?pGB=1&gicode=A007070&cID=&MenuYn=Y&ReportGB=&NewMenuID=104&stkGb=701에서 확인되었습니다.', 'key_information': [{'tool': '웹검색 재무제표 도구', 'company': 'GS리테일', 'financial_term': 'ROE', 'year': 2023, 'referenced_content': 'https://comp.fnguide.com/SVO2/ASP/SVD_FinanceRatio.asp?pGB=1&gicode=A007070&cID=&MenuYn=Y&ReportGB=&NewMenuID=104&stkGb=701'}]}\", additional_kwargs={'tool': '웹검색 재무제표 도구', 'company': 'GS리테일', 'financial_term': 'ROE', 'year': 2023, 'referenced_content': 'https://comp.fnguide.com/SVO2/ASP/SVD_FinanceRatio.asp?pGB=1&gicode=A007070&cID=&MenuYn=Y&ReportGB=&NewMenuID=104&stkGb=701', 'idx': 0}, response_metadata={}, name='quick_retriever_tool', id='e6f9b46d-62d0-4881-a821-09dc41033aab')], 'replan_count': 0, 'key_information': [{'tool': '웹검색 재무제표 도구', 'company': 'GS리테일', 'financial_term': 'ROE', 'year': 2023, 'referenced_content': 'https://comp.fnguide.com/SVO2/ASP/SVD_FinanceRatio.asp?pGB=1&gicode=A007070&cID=&MenuYn=Y&ReportGB=&NewMenuID=104&stkGb=701'}]}}\n",
      "conditional_joiner's replan_count 확인: 0\n",
      "select_recent_messages의 replan_count 확인 0\n",
      "type of message: <class 'langchain_core.messages.human.HumanMessage'>\n",
      "message.content: GS리테일의 2023년 ROE는 얼마인가요?\n",
      "message.content type: <class 'str'>\n",
      "메세지 타입 확인, isHumanMessage: True\n",
      "메세지 타입 확인, isFunctionMessage: False\n",
      "type of message: <class 'langchain_core.messages.system.SystemMessage'>\n",
      "message.content: {'output': 'GS리테일의 2023년 ROE은(는) 0.4입니다. 이 정보는 https://comp.fnguide.com/SVO2/ASP/SVD_FinanceRatio.asp?pGB=1&gicode=A007070&cID=&MenuYn=Y&ReportGB=&NewMenuID=104&stkGb=701에서 확인되었습니다.', 'key_information': [{'tool': '웹검색 재무제표 도구', 'company': 'GS리테일', 'financial_term': 'ROE', 'year': 2023, 'referenced_content': 'https://comp.fnguide.com/SVO2/ASP/SVD_FinanceRatio.asp?pGB=1&gicode=A007070&cID=&MenuYn=Y&ReportGB=&NewMenuID=104&stkGb=701'}]}\n",
      "message.content type: <class 'str'>\n",
      "메세지 타입 확인, isHumanMessage: False\n",
      "메세지 타입 확인, isFunctionMessage: False\n",
      "^^^^^^^^^^^^^^^^^^^^ logging for output_list ^^^^^^^^^^^^^^^^^^^^\n",
      "output_list: ['GS리테일의 2023년 ROE는 얼마인가요?']\n",
      "^^^^^^^^^^^^^^^^^^^^ logging for output_list  END ^^^^^^^^^^^^^^^^^^^^\n",
      "^^^^^^^^^^^^^^^^^^^^ logging for messages ^^^^^^^^^^^^^^^^^^^^\n",
      "messages: [HumanMessage(content='GS리테일의 2023년 ROE는 얼마인가요?', additional_kwargs={}, response_metadata={}, id='87c345fd-4ee2-42ad-bb0d-94e5c20c8b76'), SystemMessage(content=\"{'output': 'GS리테일의 2023년 ROE은(는) 0.4입니다. 이 정보는 https://comp.fnguide.com/SVO2/ASP/SVD_FinanceRatio.asp?pGB=1&gicode=A007070&cID=&MenuYn=Y&ReportGB=&NewMenuID=104&stkGb=701에서 확인되었습니다.', 'key_information': [{'tool': '웹검색 재무제표 도구', 'company': 'GS리테일', 'financial_term': 'ROE', 'year': 2023, 'referenced_content': 'https://comp.fnguide.com/SVO2/ASP/SVD_FinanceRatio.asp?pGB=1&gicode=A007070&cID=&MenuYn=Y&ReportGB=&NewMenuID=104&stkGb=701'}]}\", additional_kwargs={'tool': '웹검색 재무제표 도구', 'company': 'GS리테일', 'financial_term': 'ROE', 'year': 2023, 'referenced_content': 'https://comp.fnguide.com/SVO2/ASP/SVD_FinanceRatio.asp?pGB=1&gicode=A007070&cID=&MenuYn=Y&ReportGB=&NewMenuID=104&stkGb=701', 'idx': 0}, response_metadata={}, name='quick_retriever_tool', id='e6f9b46d-62d0-4881-a821-09dc41033aab')]\n",
      "message_type: <class 'list'>\n",
      "^^^^^^^^^^^^^^^^^^^^ logging for messages  END ^^^^^^^^^^^^^^^^^^^^\n",
      "check replan count: 0 continuing\n",
      "should_use_final_answer의 state확인: {'messages': [SystemMessage(content='GS리테일의 2023년 ROE는 얼마인가요?', additional_kwargs={}, response_metadata={})], 'replan_count': 0, 'force_final_answer': False, 'output_list': ['GS리테일의 2023년 ROE는 얼마인가요?']}\n",
      "shoud we use final answer?  no 0\n",
      "report agent를 사용합니다.\n",
      "step 디버깅 :  {'join': {'messages': [AIMessage(content='Thought: 정보를 제공하지 못했습니다.', additional_kwargs={}, response_metadata={}, id='e613269b-7bf0-4d59-8a60-f4e2b06d673c'), AIMessage(content='GS리테일의 2023년 ROE 정보를 제공하지 못했습니다. 이에 대한 정보를 얻기 위해서는 GS리테일의 공식 웹사이트나 금융 정보 제공 사이트에서 최신 재무제표를 참고하시는 것이 좋을 것 같습니다.', additional_kwargs={}, response_metadata={}, id='518edbf1-98d7-4514-af01-63b3ce6e90b1')], 'key_information': [{'tool': '웹검색 재무제표 도구', 'company': 'GS리테일', 'financial_term': 'ROE', 'year': 2023, 'referenced_content': 'https://comp.fnguide.com/SVO2/ASP/SVD_FinanceRatio.asp?pGB=1&gicode=A007070&cID=&MenuYn=Y&ReportGB=&NewMenuID=104&stkGb=701'}]}}\n",
      "---------------------최종 답변 --------------------------\n",
      "('GS리테일의 2023년 ROE 정보를 제공하지 못했습니다. 이에 대한 정보를 얻기 위해서는 GS리테일의 공식 웹사이트나 금융 정보 제공 '\n",
      " '사이트에서 최신 재무제표를 참고하시는 것이 좋을 것 같습니다.')\n",
      "\n",
      "---------------------참고 문헌 --------------------------\n",
      "info: {'tool': '웹검색 재무제표 도구', 'company': 'GS리테일', 'financial_term': 'ROE', 'year': 2023, 'referenced_content': 'https://comp.fnguide.com/SVO2/ASP/SVD_FinanceRatio.asp?pGB=1&gicode=A007070&cID=&MenuYn=Y&ReportGB=&NewMenuID=104&stkGb=701'}\n",
      "\n",
      "📚 도구: 웹검색 재무제표 도구\n",
      "📄 참고 내용: https://comp.fnguide.com/SVO2/ASP/SVD_FinanceRatio.asp?pGB=1&gicode=A007070&cID=&MenuYn=Y&ReportGB=&NewMenuID=104&stkGb=701\n",
      "💡 회계연도: ROE\n",
      "💡 회계연도: 2023\n",
      "--------------------------------------------------\n",
      "------------------------------------------------------\n"
     ]
    }
   ],
   "source": [
    "# 2. 체인 초기화 및 실행\n",
    "from llm_compiler import initialize_chain\n",
    "from langchain_core.messages import HumanMessage\n",
    "from pprint import pprint\n",
    "\n",
    "chain = initialize_chain()\n",
    "\n",
    "# 3. 스트리밍 실행\n",
    "for step in chain.stream(\n",
    "    {\n",
    "    \"messages\": [HumanMessage(content= \"GS리테일의 2023년 ROE는 얼마인가요?\")],\n",
    "    \"key_information\": []\n",
    "    }\n",
    "):\n",
    "    print(\"step 디버깅 : \", step)\n",
    "\n",
    "print(\"---------------------최종 답변 --------------------------\")\n",
    "pprint(step[\"join\"][\"messages\"][-1].content)\n",
    "print(\"\\n---------------------참고 문헌 --------------------------\")\n",
    "if \"key_information\" in step[\"join\"]:\n",
    "    key_info = step[\"join\"][\"key_information\"]\n",
    "    if key_info:\n",
    "        for info in key_info:\n",
    "            print(f\"\\n📚 도구: {info.get('tool', 'N/A')}\")\n",
    "            print(f\"📄 참고 내용: {info.get('referenced_content', 'N/A')}\")\n",
    "            if info.get('filename'):\n",
    "                print(f\"📎 파일명: {info.get('filename')}\")\n",
    "            if info.get('page_number'):\n",
    "                print(f\"📑 페이지: {info.get('page_number')}\")\n",
    "            if info.get('link'):\n",
    "                print(f\"🔗 링크: {info.get('link')}\")\n",
    "            if info.get('title'):\n",
    "                print(f\"📑 제목: {info.get('title')}\")\n",
    "            if info.get('broker'):\n",
    "                print(f\"🏢 증권사: {info.get('broker')}\")\n",
    "            if info.get('target_price'):\n",
    "                print(f\"💰 목표가: {info.get('target_price')}\")\n",
    "            if info.get('financial_term'):\n",
    "                print(f\"💡 회계연도: {info.get('financial_term')}\")\n",
    "            if info.get('investment_opinion'):\n",
    "                print(f\"💡 투자의견: {info.get('investment_opinion')}\")\n",
    "            if info.get('year'):\n",
    "                print(f\"💡 회계연도: {info.get('year')}\")\n",
    "            if info.get('source'):\n",
    "                print(f\"💡 출처: {info.get('source')}\")\n",
    "                                    \n",
    "            print(\"-\" * 50)\n",
    "    else:\n",
    "        print(\"참고 문헌이 없습니다.\")\n",
    "print(\"------------------------------------------------------\")"
   ]
  },
  {
   "cell_type": "code",
   "execution_count": null,
   "metadata": {},
   "outputs": [],
   "source": []
  },
  {
   "cell_type": "code",
   "execution_count": null,
   "metadata": {},
   "outputs": [],
   "source": []
  }
 ],
 "metadata": {
  "kernelspec": {
   "display_name": "lc",
   "language": "python",
   "name": "python3"
  },
  "language_info": {
   "codemirror_mode": {
    "name": "ipython",
    "version": 3
   },
   "file_extension": ".py",
   "mimetype": "text/x-python",
   "name": "python",
   "nbconvert_exporter": "python",
   "pygments_lexer": "ipython3",
   "version": "3.12.7"
  }
 },
 "nbformat": 4,
 "nbformat_minor": 2
}
