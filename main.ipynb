{
 "cells": [
  {
   "cell_type": "code",
   "execution_count": null,
   "metadata": {},
   "outputs": [],
   "source": [
    "# 1. 랭스미스 초기화\n",
    "\n",
    "import os\n",
    "from dotenv import load_dotenv\n",
    "from langchain.callbacks.manager import tracing_v2_enabled\n",
    "\n",
    "load_dotenv()\n",
    "os.environ[\"LANGCHAIN_TRACING_V2\"] = \"true\"\n",
    "os.environ[\"LANGCHAIN_ENDPOINT\"] = \"https://api.smith.langchain.com\"\n",
    "os.environ[\"LANGCHAIN_API_KEY\"] = \"your_api_key_here\"\n",
    "os.environ[\"LANGCHAIN_PROJECT\"] = \"langchain_bot_v3\"\n",
    "\n",
    "# 트레이싱 상태 확인\n",
    "with tracing_v2_enabled() as tracing:\n",
    "    print(f\"Tracing enabled: {tracing}\")\n"
   ]
  },
  {
   "cell_type": "code",
   "execution_count": null,
   "metadata": {},
   "outputs": [],
   "source": [
    "\n",
    "# 2. 체인 초기화 및 실행\n",
    "from llm_compiler import initialize_chain\n",
    "from langchain_core.messages import HumanMessage\n",
    "from pprint import pprint\n",
    "\n",
    "chain = initialize_chain()\n",
    "\n",
    "# 3. 스트리밍 실행\n",
    "for step in chain.stream(\n",
    "    {\"messages\": [HumanMessage(content=\"한화리츠가 발표한 운용수익은 직전 보고 기간 대비 얼마나 변동되었는지 궁금합니다.\")]}\n",
    "):\n",
    "    print(step)\n",
    "    print(\"---\")\n",
    "\n",
    "print(\"---------------------최종 답변 --------------------------\")\n",
    "print(\"------------------------------------------------------\")\n",
    "pprint(step[\"join\"][\"messages\"][-1].content)\n",
    "print(\"------------------------------------------------------\")\n",
    "print(\"------------------------------------------------------\")"
   ]
  }
 ],
 "metadata": {
  "language_info": {
   "name": "python"
  }
 },
 "nbformat": 4,
 "nbformat_minor": 2
}
