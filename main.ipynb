{
 "cells": [
  {
   "cell_type": "code",
   "execution_count": 1,
   "metadata": {},
   "outputs": [
    {
     "name": "stdout",
     "output_type": "stream",
     "text": [
      "Tracing enabled: <langchain_core.tracers.langchain.LangChainTracer object at 0x10c853950>\n"
     ]
    }
   ],
   "source": [
    "# 1. 랭스미스 초기화\n",
    "\n",
    "import os\n",
    "from dotenv import load_dotenv\n",
    "from langchain.callbacks.manager import tracing_v2_enabled\n",
    "\n",
    "load_dotenv()\n",
    "\n",
    "# 트레이싱 상태 확인\n",
    "with tracing_v2_enabled() as tracing:\n",
    "    print(f\"Tracing enabled: {tracing}\")\n"
   ]
  },
  {
   "cell_type": "code",
   "execution_count": 2,
   "metadata": {},
   "outputs": [
    {
     "name": "stdout",
     "output_type": "stream",
     "text": [
      "캐시된 순매수 가중치 사용\n",
      "기존 벡터스토어를 로드합니다...\n",
      "기존 기업 벡터스토어를 로드합니다...\n",
      "\n",
      "=== 기업명 추출 시작 ===\n",
      "입력 쿼리: 한화리츠가 발표한 운용수익은 직전 보고 기간 대비 얼마나 변동되었는지 궁금합니다.\n",
      "\n",
      "[Step 1: LLM으로 회사명 텍스트 추출 중...]\n",
      "LLM 응답: content='[\"한화리츠\"]' additional_kwargs={'refusal': None} response_metadata={'token_usage': {'completion_tokens': 9, 'prompt_tokens': 484, 'total_tokens': 493, 'completion_tokens_details': {'accepted_prediction_tokens': 0, 'audio_tokens': 0, 'reasoning_tokens': 0, 'rejected_prediction_tokens': 0}, 'prompt_tokens_details': {'audio_tokens': 0, 'cached_tokens': 0}}, 'model_name': 'gpt-4-0125-preview', 'system_fingerprint': None, 'finish_reason': 'stop', 'logprobs': None} id='run-60a3a723-3b73-40d6-b9b7-391a77f3fdb2-0' usage_metadata={'input_tokens': 484, 'output_tokens': 9, 'total_tokens': 493, 'input_token_details': {'audio': 0, 'cache_read': 0}, 'output_token_details': {'audio': 0, 'reasoning': 0}}\n",
      "- LLM이 예상한 회사명 목록: ['한화리츠']\n",
      "\n",
      "[Step 2: 한화리츠에 대한 유사 기업명 후보 추출 중...]\n"
     ]
    },
    {
     "name": "stderr",
     "output_type": "stream",
     "text": [
      "ERROR:root:plan_and_schedule 전체 실행 중 예기치 않은 오류: min() arg is an empty sequence\n"
     ]
    },
    {
     "name": "stdout",
     "output_type": "stream",
     "text": [
      "{'한화리츠': 1.0, '한다리츠': 0.75, '한국리츠': 0.75, '한경리츠': 0.75, '하우리츠': 0.725, '한화': 0.6, '한화포리마': 0.6, '서명리츠': 0.5, '플리츠': 0.5, '경성리츠': 0.5, '동방리츠': 0.5, '한미리': 0.5, '드림리츠': 0.5, '파일리츠': 0.5, '브이리츠': 0.5, '한국리텍': 0.5, '평안리츠': 0.5, '엘리츠': 0.5, '한화비전': 0.5, '프리츠': 0.5, '코리츠': 0.5, '롯데리츠': 0.5, '한화엔진': 0.5, '한누리': 0.5, '에이리츠': 0.5, '한화미': 0.5, '한화생명': 0.5, '한화갤러리아': 0.5, '한얼리치': 0.5, '조일리츠': 0.5, '신한알파리츠': 0.5, '한화상역': 0.5, '중부리츠': 0.5, '한화건설': 0.5, '케이리츠': 0.5, '한화포리': 0.5, '한화오션': 0.5, '한국리복': 0.5, '호텔리츠': 0.5, '한화제약': 0.5, '한화방산': 0.5, '대한리츠': 0.5, '무등리츠': 0.5, '한화개발': 0.5, '한림': 0.475, '릿츠': 0.475, '한황산업': 0.475, '화림': 0.475, '한국릴리': 0.475, '한립': 0.475}\n",
      "{'plan_and_schedule': {'messages': [], 'replan_count': 0, 'task_results': []}}\n",
      "---\n",
      "stop_joiner 값은 뭐야 ?  False\n",
      "chain 씀\n",
      "refference 확인 *************\n",
      "{'join': {'messages': [AIMessage(content=\"Thought: The user's question requires specific financial data about Hanwha REITs' operational income changes compared to the previous reporting period. Unfortunately, there are no observations or action results provided in the scratchpad that contain the necessary financial data or any indication that such data has been retrieved. Therefore, I do not have the required information to answer the user's question.\", additional_kwargs={}, response_metadata={}, id='e837edff-d489-4245-b219-67400a391db6'), SystemMessage(content='Context from last attempt: 필요한 정보인 한화리츠의 운용수익 변동에 관한 구체적인 데이터가 제공되지 않았습니다. 질문에 답하기 위해서는 한화리츠의 최근 사업보고서나 공시자료에서 운용수익의 변동을 확인해야 할 것 같습니다. 정보 검색을 통해 해당 데이터를 찾는 절차가 필요할 것으로 보입니다.', additional_kwargs={}, response_metadata={}, id='5b0419fb-d002-40e6-a13b-0e69ab107f39')]}}\n",
      "---\n",
      "$$$$$$$$$$$$$ State 를 확인하겠습니다 $$$$$$$$$$$$$$$$$$$$$$$$$$$$$$$$$\n",
      "[HumanMessage(content='한화리츠가 발표한 운용수익은 직전 보고 기간 대비 얼마나 변동되었는지 궁금합니다.', additional_kwargs={}, response_metadata={}, id='94610015-4b81-4535-afb3-35670544b571'), AIMessage(content=\"Thought: The user's question requires specific financial data about Hanwha REITs' operational income changes compared to the previous reporting period. Unfortunately, there are no observations or action results provided in the scratchpad that contain the necessary financial data or any indication that such data has been retrieved. Therefore, I do not have the required information to answer the user's question.\", additional_kwargs={}, response_metadata={}, id='e837edff-d489-4245-b219-67400a391db6'), SystemMessage(content='Context from last attempt: 필요한 정보인 한화리츠의 운용수익 변동에 관한 구체적인 데이터가 제공되지 않았습니다. 질문에 답하기 위해서는 한화리츠의 최근 사업보고서나 공시자료에서 운용수익의 변동을 확인해야 할 것 같습니다. 정보 검색을 통해 해당 데이터를 찾는 절차가 필요할 것으로 보입니다.', additional_kwargs={}, response_metadata={}, id='5b0419fb-d002-40e6-a13b-0e69ab107f39')]\n",
      "$$$$$$$$$$$$$$$$$$$$$$$$$$$$$$$$$$$$$$$$$$$$$$$$$$$$$$$$$$$$$$$$$$\n"
     ]
    },
    {
     "name": "stderr",
     "output_type": "stream",
     "text": [
      "ERROR:langsmith._internal._serde:Failed to use model_dump to serialize <class 'tools.retrieve.financialReport.report_statement_tool.CombinedFinancialReportSearchTool'> to JSON: PydanticSerializationError(Unable to serialize unknown type: <class 'pydantic._internal._model_construction.ModelMetaclass'>)\n",
      "ERROR:langsmith._internal._serde:Failed to use model_dump to serialize <class 'tools.retrieve.financialReport.report_statement_tool.CombinedFinancialReportSearchTool'> to JSON: PydanticSerializationError(Unable to serialize unknown type: <class 'pydantic._internal._model_construction.ModelMetaclass'>)\n"
     ]
    },
    {
     "name": "stdout",
     "output_type": "stream",
     "text": [
      "(resolved 전)*args check *************\n",
      "{'query': '한화리츠 운용수익', 'company': '한화리츠', 'year': 2024}\n",
      "\n",
      "Resolving dict args: {'query': '한화리츠 운용수익', 'company': '한화리츠', 'year': 2024}\n",
      "******************************\n",
      "*Whatis my arg ? *************\n",
      "한화리츠 운용수익\n",
      "*Observations check *************\n",
      "{}\n",
      "******************************\n",
      "*Whatis my arg ? *************\n",
      "한화리츠\n",
      "*Observations check *************\n",
      "{}\n",
      "******************************\n",
      "*Whatis my arg ? *************\n",
      "2024\n",
      "*Observations check *************\n",
      "{}\n",
      "tool에 진짜 들어가는 형태의 args\n",
      "{'query': '한화리츠 운용수익', 'company': '한화리츠', 'year': 2024}\n",
      "observations {}\n",
      "tool에 진짜 들어가는 형태의 args\n",
      "{'query': '한화리츠 운용수익', 'company': '한화리츠', 'year': 2024}\n",
      "입력 회사명 : 한화리츠, 입력 연도 : 2024\n",
      "reprt_code='11011', fs_div='CFS' (사업보고서, 연결제무제표)'\n",
      "{'status': '013', 'message': '조회된 데이타가 없습니다.'}\n",
      "\n",
      "reprt_code='11011', fs_div='CFS' (사업보고서, 연결제무제표)'\n",
      "{'status': '013', 'message': '조회된 데이타가 없습니다.'}\n",
      "\n",
      "reprt_code='11011', fs_div='CFS' (사업보고서, 연결제무제표)'\n",
      "{'status': '013', 'message': '조회된 데이타가 없습니다.'}\n",
      "\n",
      "사업 보고서 번호:  None\n"
     ]
    },
    {
     "name": "stderr",
     "output_type": "stream",
     "text": [
      "ERROR:langsmith._internal._serde:Failed to use model_dump to serialize <class 'tools.retrieve.financialReport.report_statement_tool.CombinedFinancialReportSearchTool'> to JSON: PydanticSerializationError(Unable to serialize unknown type: <class 'pydantic._internal._model_construction.ModelMetaclass'>)\n",
      "ERROR:langsmith._internal._serde:Failed to use model_dump to serialize <class 'tools.retrieve.financialReport.report_statement_tool.CombinedFinancialReportSearchTool'> to JSON: PydanticSerializationError(Unable to serialize unknown type: <class 'pydantic._internal._model_construction.ModelMetaclass'>)\n"
     ]
    },
    {
     "name": "stdout",
     "output_type": "stream",
     "text": [
      "observations\n",
      "{'plan_and_schedule': {'messages': [FunctionMessage(content=\"{'output': '한화리츠의 2024년도 운용수익에 대한 정보는 다음과 같습니다:\\\\n\\\\n- **운용수익 정의**: 운용수익은 임대료 수익, 관리 수익, 주차 수익 및 기타 수익을 합친 금액을 의미합니다.\\\\n- **2023년 기준 당기 운용수익**: 22,808,550원\\\\n- **2023년 전기 운용수익**: 23,274,064원\\\\n\\\\n2024년도의 구체적인 운용수익 정보는 제공되지 않았으나, 2023년 기준으로는 전기 대비 감소한 수익을 기록하였습니다.\\\\n\\\\n출처: [한화리츠 사업보고서](https://dart.fss.or.kr/pdf/download/pdf.do?rcp_no=20240722000186&dcm_no=10034163) (페이지 59)', 'key_information': [{'tool': '사업보고서', 'referenced_content': '운용수익은 임대료수익, 관리수익, 주차수익 및 기타수익을 합친 금액입니다.', 'page_number': 59, 'filename': '한화리츠/20240722000186/서비스업/[III. 재무에 관한 사항]', 'link': 'https://dart.fss.or.kr/pdf/download/pdf.do?rcp_no=20240722000186&dcm_no=10034163'}, {'tool': '사업보고서', 'referenced_content': '당기 운용수익: 22,808,550(전기 23,274,064), 출처: 문서 내용', 'page_number': 59, 'filename': '한화리츠/20240722000186/서비스업/[III. 재무에 관한 사항]', 'link': 'https://dart.fss.or.kr/pdf/download/pdf.do?rcp_no=20240722000186&dcm_no=10034163'}]}\", additional_kwargs={'idx': 1, 'args': {'query': '한화리츠 운용수익', 'company': '한화리츠', 'year': 2024}}, response_metadata={}, name='combined_financial_report_search', id='ade8a6ca-cf3b-40b1-8c31-56a0378930ad', tool_call_id=1), FunctionMessage(content='join', additional_kwargs={'idx': 2, 'args': ()}, response_metadata={}, name='join', id='f72cf98e-4cb9-4e49-9aa3-05c286bc9cb3', tool_call_id=2)], 'replan_count': 1, 'task_results': [{'tool_name': 'combined_financial_report_search', 'task_id': '1', 'timestamp': '2025-01-13T11:15:27.883570', 'result': {'output': '한화리츠의 2024년도 운용수익에 대한 정보는 다음과 같습니다:\\n\\n- **운용수익 정의**: 운용수익은 임대료 수익, 관리 수익, 주차 수익 및 기타 수익을 합친 금액을 의미합니다.\\n- **2023년 기준 당기 운용수익**: 22,808,550원\\n- **2023년 전기 운용수익**: 23,274,064원\\n\\n2024년도의 구체적인 운용수익 정보는 제공되지 않았으나, 2023년 기준으로는 전기 대비 감소한 수익을 기록하였습니다.\\n\\n출처: [한화리츠 사업보고서](https://dart.fss.or.kr/pdf/download/pdf.do?rcp_no=20240722000186&dcm_no=10034163) (페이지 59)', 'key_information': [{'tool': '사업보고서', 'referenced_content': '운용수익은 임대료수익, 관리수익, 주차수익 및 기타수익을 합친 금액입니다.', 'page_number': 59, 'filename': '한화리츠/20240722000186/서비스업/[III. 재무에 관한 사항]', 'link': 'https://dart.fss.or.kr/pdf/download/pdf.do?rcp_no=20240722000186&dcm_no=10034163'}, {'tool': '사업보고서', 'referenced_content': '당기 운용수익: 22,808,550(전기 23,274,064), 출처: 문서 내용', 'page_number': 59, 'filename': '한화리츠/20240722000186/서비스업/[III. 재무에 관한 사항]', 'link': 'https://dart.fss.or.kr/pdf/download/pdf.do?rcp_no=20240722000186&dcm_no=10034163'}]}, 'metadata': {'arguments': {'query': '한화리츠 운용수익', 'company': '한화리츠', 'year': 2024}}}, {'tool_name': 'join', 'task_id': '2', 'timestamp': '2025-01-13T11:15:27.883591', 'result': 'join', 'metadata': {'arguments': ()}}]}}\n",
      "---\n",
      "stop_joiner 값은 뭐야 ?  False\n",
      "chain 씀\n",
      "refference 확인 *************\n",
      "{'tool_name': 'combined_financial_report_search', 'task_id': '1', 'timestamp': '2025-01-13T11:15:27.883570', 'result': {'output': '한화리츠의 2024년도 운용수익에 대한 정보는 다음과 같습니다:\\n\\n- **운용수익 정의**: 운용수익은 임대료 수익, 관리 수익, 주차 수익 및 기타 수익을 합친 금액을 의미합니다.\\n- **2023년 기준 당기 운용수익**: 22,808,550원\\n- **2023년 전기 운용수익**: 23,274,064원\\n\\n2024년도의 구체적인 운용수익 정보는 제공되지 않았으나, 2023년 기준으로는 전기 대비 감소한 수익을 기록하였습니다.\\n\\n출처: [한화리츠 사업보고서](https://dart.fss.or.kr/pdf/download/pdf.do?rcp_no=20240722000186&dcm_no=10034163) (페이지 59)', 'key_information': [{'tool': '사업보고서', 'referenced_content': '운용수익은 임대료수익, 관리수익, 주차수익 및 기타수익을 합친 금액입니다.', 'page_number': 59, 'filename': '한화리츠/20240722000186/서비스업/[III. 재무에 관한 사항]', 'link': 'https://dart.fss.or.kr/pdf/download/pdf.do?rcp_no=20240722000186&dcm_no=10034163'}, {'tool': '사업보고서', 'referenced_content': '당기 운용수익: 22,808,550(전기 23,274,064), 출처: 문서 내용', 'page_number': 59, 'filename': '한화리츠/20240722000186/서비스업/[III. 재무에 관한 사항]', 'link': 'https://dart.fss.or.kr/pdf/download/pdf.do?rcp_no=20240722000186&dcm_no=10034163'}]}, 'metadata': {'arguments': {'query': '한화리츠 운용수익', 'company': '한화리츠', 'year': 2024}}}\n",
      "{'tool_name': 'join', 'task_id': '2', 'timestamp': '2025-01-13T11:15:27.883591', 'result': 'join', 'metadata': {'arguments': ()}}\n",
      "{'tool_name': 'combined_financial_report_search', 'task_id': '1', 'timestamp': '2025-01-13T11:15:27.883570', 'result': {'output': '한화리츠의 2024년도 운용수익에 대한 정보는 다음과 같습니다:\\n\\n- **운용수익 정의**: 운용수익은 임대료 수익, 관리 수익, 주차 수익 및 기타 수익을 합친 금액을 의미합니다.\\n- **2023년 기준 당기 운용수익**: 22,808,550원\\n- **2023년 전기 운용수익**: 23,274,064원\\n\\n2024년도의 구체적인 운용수익 정보는 제공되지 않았으나, 2023년 기준으로는 전기 대비 감소한 수익을 기록하였습니다.\\n\\n출처: [한화리츠 사업보고서](https://dart.fss.or.kr/pdf/download/pdf.do?rcp_no=20240722000186&dcm_no=10034163) (페이지 59)', 'key_information': [{'tool': '사업보고서', 'referenced_content': '운용수익은 임대료수익, 관리수익, 주차수익 및 기타수익을 합친 금액입니다.', 'page_number': 59, 'filename': '한화리츠/20240722000186/서비스업/[III. 재무에 관한 사항]', 'link': 'https://dart.fss.or.kr/pdf/download/pdf.do?rcp_no=20240722000186&dcm_no=10034163'}, {'tool': '사업보고서', 'referenced_content': '당기 운용수익: 22,808,550(전기 23,274,064), 출처: 문서 내용', 'page_number': 59, 'filename': '한화리츠/20240722000186/서비스업/[III. 재무에 관한 사항]', 'link': 'https://dart.fss.or.kr/pdf/download/pdf.do?rcp_no=20240722000186&dcm_no=10034163'}]}, 'metadata': {'arguments': {'query': '한화리츠 운용수익', 'company': '한화리츠', 'year': 2024}}}\n",
      "{'tool_name': 'join', 'task_id': '2', 'timestamp': '2025-01-13T11:15:27.883591', 'result': 'join', 'metadata': {'arguments': ()}}\n",
      "{'join': {'messages': [AIMessage(content=\"Thought: The provided information from the financial report search gives details about Hanwha REITs' operational income for 2023, showing a decrease compared to the previous period. This directly answers the user's question about the change in operational income for Hanwha REITs compared to the last reporting period.\", additional_kwargs={}, response_metadata={}, id='58dea838-f245-45c8-b199-c92e5800587b'), AIMessage(content='한화리츠의 2023년 기준 당기 운용수익은 22,808,550원으로, 이전 기간인 2023년 전기 운용수익 23,274,064원 대비 감소하였습니다. 이는 한화리츠의 운용수익이 직전 보고 기간 대비 감소한 것을 의미합니다.\\n\\n[답변 생성 근거]: 한화리츠의 사업보고서 정보를 바탕으로 한 수치 비교를 통해 얻은 결과입니다. 운용수익은 임대료 수익, 관리 수익, 주차 수익 및 기타 수익을 합친 금액으로, 해당 기간 동안 운용수익의 감소를 확인할 수 있습니다.\\n[참고 데이터]: 한화리츠 사업보고서(https://dart.fss.or.kr/pdf/download/pdf.do?rcp_no=20240722000186&dcm_no=10034163) (페이지 59)', additional_kwargs={}, response_metadata={}, id='6f55bf49-b2fa-4296-a539-ecb609388c9a')]}}\n",
      "---\n",
      "---------------------최종 답변 --------------------------\n",
      "------------------------------------------------------\n",
      "('한화리츠의 2023년 기준 당기 운용수익은 22,808,550원으로, 이전 기간인 2023년 전기 운용수익 23,274,064원 대비 '\n",
      " '감소하였습니다. 이는 한화리츠의 운용수익이 직전 보고 기간 대비 감소한 것을 의미합니다.\\n'\n",
      " '\\n'\n",
      " '[답변 생성 근거]: 한화리츠의 사업보고서 정보를 바탕으로 한 수치 비교를 통해 얻은 결과입니다. 운용수익은 임대료 수익, 관리 수익, '\n",
      " '주차 수익 및 기타 수익을 합친 금액으로, 해당 기간 동안 운용수익의 감소를 확인할 수 있습니다.\\n'\n",
      " '[참고 데이터]: 한화리츠 '\n",
      " '사업보고서(https://dart.fss.or.kr/pdf/download/pdf.do?rcp_no=20240722000186&dcm_no=10034163) '\n",
      " '(페이지 59)')\n",
      "------------------------------------------------------\n",
      "------------------------------------------------------\n"
     ]
    }
   ],
   "source": [
    "\n",
    "# 2. 체인 초기화 및 실행\n",
    "from llm_compiler import initialize_chain\n",
    "from langchain_core.messages import HumanMessage\n",
    "from pprint import pprint\n",
    "\n",
    "chain = initialize_chain()\n",
    "\n",
    "# 3. 스트리밍 실행\n",
    "for step in chain.stream(\n",
    "    {\"messages\": [HumanMessage(content=\"한화리츠가 발표한 운용수익은 직전 보고 기간 대비 얼마나 변동되었는지 궁금합니다.\")]}\n",
    "):\n",
    "    print(step)\n",
    "    print(\"---\")\n",
    "\n",
    "print(\"---------------------최종 답변 --------------------------\")\n",
    "print(\"------------------------------------------------------\")\n",
    "pprint(step[\"join\"][\"messages\"][-1].content)\n",
    "print(\"------------------------------------------------------\")\n",
    "print(\"------------------------------------------------------\")"
   ]
  }
 ],
 "metadata": {
  "kernelspec": {
   "display_name": "New Joa Venv",
   "language": "python",
   "name": "new_joavenv"
  },
  "language_info": {
   "codemirror_mode": {
    "name": "ipython",
    "version": 3
   },
   "file_extension": ".py",
   "mimetype": "text/x-python",
   "name": "python",
   "nbconvert_exporter": "python",
   "pygments_lexer": "ipython3",
   "version": "3.11.8"
  }
 },
 "nbformat": 4,
 "nbformat_minor": 2
}
